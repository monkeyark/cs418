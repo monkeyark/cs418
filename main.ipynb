{
 "cells": [
  {
   "cell_type": "code",
   "execution_count": 1,
   "metadata": {},
   "outputs": [],
   "source": [
    "\n",
    "inputFile = \"data/subdivision2.txt\"\n",
    "file = open(inputFile, \"r\")\n",
    "input = file.readlines()\n",
    "file.close()\n",
    "# print(input)\n"
   ]
  },
  {
   "cell_type": "code",
   "execution_count": 2,
   "metadata": {},
   "outputs": [],
   "source": [
    "import re\n",
    "from DoublyConnectedEdgeList import Vertex, Face, HalfEdge\n",
    "\n",
    "vertex = []\n",
    "face = []\n",
    "halfedge = []\n",
    "\n",
    "def readVertex(line):\n",
    "\tidx = re.search('v(.+?) ', line).group(1)\n",
    "\tx = re.search(' \\((.+?),', line).group(1)\n",
    "\ty = re.search(', (.+?)\\)', line).group(1)\n",
    "\tes = re.search(' e(.+?),', line).group(1)\n",
    "\tee = re.search('e\\d,(.+?)\\n', line).group(1)\n",
    "\tv = Vertex(idx, x, y)\n",
    "\tvertex.append(v)\n",
    "\treturn v\n",
    "\n",
    "def readFace(line):\n",
    "\tidx = re.search('f(\\d) ', line).group(1)\n",
    "\tf = Face(idx)\n",
    "\tface.append(f)\n",
    "\treturn f\n",
    "\n",
    "def readHalfEdge(line):\n",
    "\tvsi = re.search('e(\\d),\\d v', line).group(1)\n",
    "\tvei = re.search('e\\d,(\\d) v', line).group(1)\n",
    "\tfi = re.search('f(\\d) ', line).group(1)\n",
    "\n",
    "\tvs = vertex[int(vsi)-1]\n",
    "\tve = vertex[int(vei)-1]\n",
    "\tf = face[int(fi)-1]\n",
    "\te = HalfEdge(vs, ve, f)\n",
    "\thalfedge.append(e)\n",
    "\treturn e\n",
    "\n",
    "# find x,y cordinates of vertex for ploting\n",
    "x_values = []\n",
    "y_values = []\n",
    "\n",
    "for line in input:\n",
    "\tc = line[0]\n",
    "\tif c == 'v':\n",
    "\t\tv = readVertex(line)\n",
    "\t\tx_values.append(float(v.x))\n",
    "\t\ty_values.append(float(v.y))\n",
    "\telif c == 'f':\n",
    "\t\tf = readFace(line)\n",
    "\telif c == 'e':\n",
    "\t\te = readHalfEdge(line)\n",
    "\tpass\n",
    "\n",
    "# the face outside bounding box\n",
    "face_out = Face(str(len(face)))\n",
    "\n",
    "# bounding vertice\n",
    "min_x = min(x_values)\n",
    "max_x = max(x_values)\n",
    "min_y = min(y_values)\n",
    "max_y = max(y_values)\n",
    "offset_x = (max_x - min_x) * 0.2\n",
    "offset_y = (max_y - min_y) * 0.2\n",
    "topl = Vertex(len(vertex)+1, min_x-offset_x, max_y+offset_y)\n",
    "topr = Vertex(len(vertex)+2, max_x+offset_x, max_y+offset_y)\n",
    "botr = Vertex(len(vertex)+3, max_x+offset_x, min_y-offset_y)\n",
    "botl = Vertex(len(vertex)+4, min_x-offset_x, min_y-offset_y)\n",
    "\n",
    "# bounding edges\n",
    "boundT = HalfEdge(topl, topr, face_out)\n",
    "boundR = HalfEdge(topr, botr, face_out)\n",
    "boundB = HalfEdge(botr, botl, face_out)\n",
    "boundL = HalfEdge(botl, topl, face_out)\n",
    "\n",
    "halfedge[len(halfedge):] = [boundT, boundR, boundB, boundL]\n"
   ]
  },
  {
   "cell_type": "code",
   "execution_count": 65,
   "metadata": {},
   "outputs": [
    {
     "name": "stdout",
     "output_type": "stream",
     "text": [
      "12 12\n",
      "(0.0, 5.5) (2.0, 4.0)\n",
      "(0.0, 5.5) (2.0, 4.0)\n",
      "(0.0, 5.5) (2.2, 2.0)\n",
      "(0.0, 5.5) (2.2, 2.0)\n",
      "(2.0, 4.0) (2.2, 2.0)\n",
      "(2.0, 4.0) (2.2, 2.0)\n",
      "(1.0, 1.0) (2.2, 2.0)\n",
      "(1.0, 1.0) (2.2, 2.0)\n",
      "(-0.44000000000000006, 6.4) (2.64, 6.4)\n",
      "(2.64, 0.09999999999999998) (2.64, 6.4)\n",
      "(-0.44000000000000006, 0.09999999999999998) (2.64, 0.09999999999999998)\n",
      "(-0.44000000000000006, 0.09999999999999998) (-0.44000000000000006, 6.4)\n"
     ]
    }
   ],
   "source": [
    "seg_edg = dict()\t# dictionnary of line segments as key to corresponding value in list of halfedges\n",
    "\n",
    "'''Append multiple values to a key in the given dictionary'''\n",
    "def add_values_to_dict(target_dict, key, list_of_values):\n",
    "\tif key not in target_dict:\n",
    "\t\ttarget_dict[key] = list()\n",
    "\ttarget_dict[key].extend(list_of_values)\n",
    "\treturn target_dict\n",
    "\n",
    "\n",
    "segment = []\n",
    "s_e_dict = dict()\n",
    "for edge in halfedge:\n",
    "\tseg = edge.toLineSegment()\n",
    "\tseg_ = seg.__str__()\n",
    "\tedg_ = edge.__str__()\n",
    "\tsegment.append(seg)\n",
    "\ts_e_dict = add_values_to_dict(s_e_dict, seg_, [edg_])\n",
    "\n",
    "# print(s_e_dict)\n",
    "\n",
    "# seen = set()\n",
    "# result = []\n",
    "# for item in segment:\n",
    "# \titm_str = item.__str__()\n",
    "# \tif itm_str not in seen:\n",
    "# \t\tseen.add(item)\n",
    "# \t\tresult.append(item)\n",
    "# segment = result\n",
    "\n",
    "i=0\n",
    "j=0\n",
    "seen = set()\n",
    "result = []\n",
    "for item in segment:\n",
    "\tif item not in seen:\n",
    "\t\tseen.add(item)\n",
    "\t\ti+=1\n",
    "\t\tresult.append(item)\n",
    "\tj+=1\n",
    "print (i, j)\n",
    "segment = result\n",
    "\n",
    "for s in result:\n",
    "\tprint(s)"
   ]
  },
  {
   "cell_type": "code",
   "execution_count": 4,
   "metadata": {},
   "outputs": [
    {
     "data": {
      "image/png": "[encoded data removed]",
      "text/plain": [
       "<Figure size 432x288 with 1 Axes>"
      ]
     },
     "metadata": {
      "needs_background": "light"
     },
     "output_type": "display_data"
    }
   ],
   "source": [
    "import pylab as pl\n",
    "import matplotlib.pyplot as plt\n",
    "import matplotlib.collections as mc\n",
    "# from TrapezoidalMap import Point, LineSegment\n",
    "\n",
    "segment_plot = []\n",
    "for s in segment:\n",
    "\tstt = (s.plx, s.ply)\n",
    "\tend = (s.prx, s.pry)\n",
    "\tsegment_plot.append([stt, end])\n",
    "\n",
    "fig, ax = pl.subplots()\n",
    "\n",
    "ax.add_collection(mc.LineCollection(segment_plot[:-4], colors=('blue')))\n",
    "ax.add_collection(mc.LineCollection(segment_plot[-4:], colors=('black')))\n",
    "ax.set_xlim(0, 10)\n",
    "\n",
    "ax.autoscale()\n",
    "ax.margins(0.1)\n",
    "\n",
    "for v in vertex:\n",
    "\tplt.text(v.x-0.015, v.y+0.25, \"v\"+str(v.idx))\n",
    "\n",
    "plt.scatter(x_values, y_values, color=\"red\", s=50)\n",
    "# plt.savefig('trapzodialMap.png', dpi=1000)\n",
    "plt.show()"
   ]
  },
  {
   "cell_type": "code",
   "execution_count": 5,
   "metadata": {},
   "outputs": [],
   "source": [
    "# Algorithm TRAPEZOIDALMAP(S)\n",
    "# Input. A set S of n non-crossing line segments.\n",
    "# Output. The trapezoidal map T(S) and a search structure D for T(S) in a bounding box.\n",
    "# 1. Determine a bounding box R that contains all segments of S, and initialize the trapezoidal map structure T and search structure D for it.\n",
    "# 2. Compute a random permutation s1,s2,...,sn of the elements of S.\n",
    "# 3. for i ← 1 to n\n",
    "# 4. \tdo Find the set ∆0,∆1,...,∆k of trapezoids in T properly intersected by si.\n",
    "# 5. \tRemove ∆0,∆1,...,∆k from T and replace them by the new trapezoids that appear because of the insertion of si.\n",
    "# 6. \tRemove the leaves for ∆0,∆1,...,∆k from D, and create leaves for the new trapezoids. Link the new leaves to the existing inner nodes by adding some new inner nodes, as explained below.\n"
   ]
  },
  {
   "cell_type": "code",
   "execution_count": 6,
   "metadata": {},
   "outputs": [],
   "source": [
    "# Algorithm FOLLOWSEGMENT(T,D,si)\n",
    "# Input. A trapezoidal map T, a search structure D for T, and a new segment si.\n",
    "# Output. The sequence ∆0,...,∆k of trapezoids intersected by si.\n",
    "# 1. Let p and q be the left and right endpoint of si.\n",
    "# 2. Search with p in the search structure D to find ∆0.\n",
    "# 3. j ← 0;\n",
    "# 4. while q lies to the right of rightp(∆j)\n",
    "# 5. \tdo if rightp(∆j) lies above si\n",
    "# 6. \t\tthen Let ∆j+1 be the lower right neighbor of ∆j.\n",
    "# 7. \t\telse Let ∆j+1 be the upper right neighbor of ∆j.\n",
    "# 8. \tj ← j +1\n",
    "# 9. return ∆0,∆1,...,∆j\n"
   ]
  },
  {
   "cell_type": "code",
   "execution_count": 7,
   "metadata": {},
   "outputs": [],
   "source": [
    "# Algorithm RANDOMPERMUTATION(A)\n",
    "# Input. An array A[1···n].\n",
    "# Output. The array A[1···n] with the same elements, but rearranged into a random permutation.\n",
    "# 1. for k ← n downto 2\n",
    "# 2. \tdo rndindex ←RANDOM(k)\n",
    "# 3. \tExchange A[k] and A[rndindex].\n",
    "\n",
    "def randomSegment():\n",
    "\thalfedge\n",
    "\tpass\n"
   ]
  },
  {
   "cell_type": "code",
   "execution_count": 8,
   "metadata": {},
   "outputs": [
    {
     "data": {
      "text/plain": [
       "<Figure size 432x288 with 0 Axes>"
      ]
     },
     "metadata": {},
     "output_type": "display_data"
    }
   ],
   "source": [
    "import networkx as nx\n",
    "import matplotlib.pyplot as plt\n",
    "\n",
    "g = nx.Graph()\n",
    "\n",
    "g.add_edge(1, 2)\n",
    "g.add_edge(2, 3)\n",
    "g.add_edge(3, 4)\n",
    "g.add_edge(1, 4)\n",
    "g.add_edge(1, 5)\n",
    "g.add_edge(5, 6)\n",
    "g.add_edge(5, 7)\n",
    "g.add_edge(4, 8)\n",
    "g.add_edge(3, 8)\n",
    "\n",
    "# drawing in circular layout\n",
    "nx.draw_circular(g, with_labels = True)\n",
    "plt.savefig(\"filename1.png\")\n",
    "# clearing the current plot\n",
    "plt.clf()\n",
    "\n",
    "# drawing in planar layout\n",
    "nx.draw_planar(g, with_labels = True)\n",
    "plt.savefig(\"filename2.png\")\n",
    "# clearing the current plot\n",
    "plt.clf()\n",
    "\n",
    "# drawing in random layout\n",
    "nx.draw_random(g, with_labels = True)\n",
    "plt.savefig(\"filename3.png\")\n",
    "# clearing the current plot\n",
    "plt.clf()\n",
    "\n",
    "# drawing in spectral layout\n",
    "nx.draw_spectral(g, with_labels = True)\n",
    "plt.savefig(\"filename4.png\")\n",
    "# clearing the current plot\n",
    "plt.clf()\n",
    "\n",
    "# drawing in spring layout\n",
    "nx.draw_spring(g, with_labels = True)\n",
    "plt.savefig(\"filename5.png\")\n",
    "# clearing the current plot\n",
    "plt.clf()\n",
    "\n",
    "# drawing in shell layout\n",
    "nx.draw_shell(g, with_labels = True)\n",
    "plt.savefig(\"filename6.png\")\n",
    "# clearing the current plot\n",
    "plt.clf()"
   ]
  },
  {
   "cell_type": "code",
   "execution_count": 9,
   "metadata": {},
   "outputs": [
    {
     "name": "stderr",
     "output_type": "stream",
     "text": [
      "/var/folders/b5/3_hxb4wx733_0kzsjsn17fcw0000gn/T/ipykernel_14236/4260796930.py:19: UserWarning: Matplotlib is currently using module://matplotlib_inline.backend_inline, which is a non-GUI backend, so cannot show the figure.\n",
      "  fig.show()\n"
     ]
    },
    {
     "data": {
      "image/png": "[encoded data removed]",
      "text/plain": [
       "<Figure size 432x288 with 1 Axes>"
      ]
     },
     "metadata": {},
     "output_type": "display_data"
    }
   ],
   "source": [
    "import networkx as nx\n",
    "import matplotlib.pyplot as plt\n",
    "\n",
    "graph = {\n",
    "\t's1': ['v', 't1','w'],\n",
    "\t's2': ['t1','s1'],\n",
    "\t's3': ['v','w'],\n",
    "\t's4': ['x','y'],\n",
    "\t'x': ['v','w'],\n",
    "\t'v': ['t1', 'w'],\n",
    "\t'w': ['y','t1','t2'],\n",
    "\t'y': ['v','t1','t2'],\n",
    "\t't1': [],\n",
    "\t't2': []\n",
    "\t}\n",
    "\n",
    "def main(G):\n",
    "\tfig = plt.figure()\n",
    "\tfig.show()\n",
    "\n",
    "\tgraph = nx.DiGraph()\n",
    "\n",
    "\tfor v in G.keys():\n",
    "\t\tgraph.add_node(v)\n",
    "\n",
    "\tfor delta in G.items():\n",
    "\t\tfor w in delta[1]:\n",
    "\t\t\tgraph.add_edge(delta[0],w)\n",
    "\n",
    "\t#posit = nx.shell_layout(G) #ISN'T NEEDED ANYMORE\n",
    "\n",
    "\tnx.draw_planar(graph,with_labels = True, alpha=0.8) #NEW FUNCTION\n",
    "\tfig.canvas.draw()\n",
    "\n",
    "main(graph)"
   ]
  }
 ],
 "metadata": {
  "interpreter": {
   "hash": "857970f990130bbcaee778cf1846f7875676d945310dca1379fe4b5ef3d258a5"
  },
  "kernelspec": {
   "display_name": "Python 3.10.4 ('myenv')",
   "language": "python",
   "name": "python3"
  },
  "language_info": {
   "codemirror_mode": {
    "name": "ipython",
    "version": 3
   },
   "file_extension": ".py",
   "mimetype": "text/x-python",
   "name": "python",
   "nbconvert_exporter": "python",
   "pygments_lexer": "ipython3",
   "version": "3.10.4"
  },
  "orig_nbformat": 4
 },
 "nbformat": 4,
 "nbformat_minor": 2
}
