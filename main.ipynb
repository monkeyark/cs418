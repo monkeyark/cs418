{
 "cells": [
  {
   "cell_type": "code",
   "execution_count": null,
   "metadata": {},
   "outputs": [],
   "source": [
    "\n",
    "inputFile = \"data/subdivision1.txt\"\n",
    "file = open(inputFile, \"r\")\n",
    "input = file.readlines()\n",
    "file.close()\n",
    "# print(input)\n"
   ]
  },
  {
   "cell_type": "markdown",
   "metadata": {},
   "source": [
    "v1 (0, 0) e1,2\n",
    "v2 (1, 0) e2,3\n",
    "v3 (0, 1) e3,1\n",
    "\n",
    "f1 e2,3 nil\n",
    "f2 nil e1,3\n",
    "\n",
    "e1,2 v1 e2,1 f1 e2,3 e3,1\n",
    "e2,1 v2 e1,2 f2 e1,3 e3,2\n",
    "e1,3 v1 e3,1 f2 e3,2 e2,1\n",
    "e3,1 v3 e1,3 f1 e1,2 e2,3\n",
    "e2,3 v2 e3,2 f1 e3,1 e1,2\n",
    "e3,2 v3 e2,3 f2 e2,1 e1,3"
   ]
  },
  {
   "cell_type": "code",
   "execution_count": null,
   "metadata": {},
   "outputs": [],
   "source": [
    "import re\n",
    "from DoublyConnectedEdgeList import Vertex, Face, HalfEdge\n",
    "\n",
    "v_size = 1\n",
    "f_size = 1\n",
    "e_size = 1\n",
    "\n",
    "for line in input:\n",
    "\tc = line[0]\n",
    "\tif c == 'v':\n",
    "\t\tv_size += 1\n",
    "\telif c == 'f':\n",
    "\t\tf_size += 1\n",
    "\telif c == 'e':\n",
    "\t\te_size += 1\n",
    "\n",
    "vertex = [None] * v_size\n",
    "face = [None] * f_size\n",
    "# halfedge = [None] * e_size\n",
    "halfedge = [None]\n",
    "\n",
    "def readVertex(line):\n",
    "\tidx = re.search('v(.+?) ', line).group(1)\n",
    "\tx = re.search(' \\((.+?),', line).group(1)\n",
    "\ty = re.search(', (.+?)\\)', line).group(1)\n",
    "\tes = re.search(' e(.+?),', line).group(1)\n",
    "\tee = re.search('e\\d,(.+?)\\n', line).group(1)\n",
    "\tv = Vertex(idx, x, y)\n",
    "\tvertex[int(idx)] = v\n",
    "\treturn v\n",
    "\n",
    "def readFace(line):\n",
    "\tidx = re.search('f(\\d) ', line).group(1)\n",
    "\tf = Face(idx)\n",
    "\tface[int(idx)] = f\n",
    "\treturn f\n",
    "\n",
    "def readHalfEdge(line):\n",
    "\tvsi = re.search('e(\\d),\\d v', line).group(1)\n",
    "\tvei = re.search('e\\d,(\\d) v', line).group(1)\n",
    "\tfi = re.search('f(\\d) ', line).group(1)\n",
    "\n",
    "\tvs = vertex[int(vsi)]\n",
    "\tve = vertex[int(vei)]\n",
    "\tf = face[int(fi)]\n",
    "\te = HalfEdge(vs, ve, f)\n",
    "\thalfedge.append(e)\n",
    "\treturn e\n",
    "\n",
    "\n",
    "for line in input:\n",
    "\tc = line[0]\n",
    "\tif c == 'v':\n",
    "\t\tv = readVertex(line)\n",
    "\telif c == 'f':\n",
    "\t\tf = readFace(line)\n",
    "\telif c == 'e':\n",
    "\t\te = readHalfEdge(line)\n",
    "\tpass"
   ]
  },
  {
   "cell_type": "code",
   "execution_count": null,
   "metadata": {},
   "outputs": [],
   "source": [
    "for v in vertex:\n",
    "\tprint(v)\n",
    "\n",
    "for f in face:\n",
    "\tprint(f)\n",
    "\t\n",
    "for e in halfedge:\n",
    "\tprint(e)"
   ]
  },
  {
   "cell_type": "code",
   "execution_count": null,
   "metadata": {},
   "outputs": [],
   "source": [
    "import numpy as np\n",
    "import pylab as pl\n",
    "from matplotlib import collections as mc\n",
    "\n",
    "lines = []\n",
    "for i in range(1, len(halfedge)):\n",
    "\te = halfedge[i]\n",
    "\tstt = (e.vs.x, e.vs.y)\n",
    "\tend = (e.ve.x, e.ve.y)\n",
    "\tseg = [stt, end]\n",
    "\tlines.append(seg)\n",
    "\n",
    "lc = mc.LineCollection(lines, linewidths=2)\n",
    "\n",
    "fig, ax = pl.subplots()\n",
    "ax.add_collection(lc)\n",
    "ax.autoscale()\n",
    "ax.margins(0.1)"
   ]
  },
  {
   "cell_type": "code",
   "execution_count": null,
   "metadata": {},
   "outputs": [],
   "source": [
    "import numpy as np\n",
    "import pylab as pl\n",
    "from matplotlib import collections as mc\n",
    "\n",
    "lines = [[(0, 1), (1, 1)], [(2, 3), (3, 3)], [(1, 2), (1, 3)]]\n",
    "c = np.array([(1, 0, 0, 1), (0, 1, 0, 1), (0, 0, 1, 1)])\n",
    "lc = mc.LineCollection(lines, colors=c, linewidths=2)\n",
    "\n",
    "fig, ax = pl.subplots()\n",
    "ax.add_collection(lc)\n",
    "ax.autoscale()\n",
    "ax.margins(0.1)"
   ]
  },
  {
   "cell_type": "code",
   "execution_count": null,
   "metadata": {},
   "outputs": [],
   "source": [
    "import matplotlib.pyplot as plt\n",
    "import numpy as np\n",
    "\n",
    "xs = np.linspace(-np.pi, np.pi, 30)\n",
    "ys = np.sin(xs)\n",
    "markers_on = [12, 17, 18, 19]\n",
    "plt.plot(xs, ys, '-gD', markevery=markers_on, label='line with select markers')\n",
    "plt.legend()\n",
    "plt.show()"
   ]
  },
  {
   "cell_type": "code",
   "execution_count": null,
   "metadata": {},
   "outputs": [],
   "source": [
    "from PIL import Image\n",
    "from PIL import ImageDraw\n",
    "import random as rnd\n",
    "import matplotlib.pyplot as plt\n",
    "import numpy as np\n",
    "\n",
    "N = 60000\n",
    "s = (500, 500)\n",
    "\n",
    "im = Image.new('RGBA', s, (255,255,255,255))\n",
    "draw = ImageDraw.Draw(im)\n",
    "\n",
    "for i in range(N):\n",
    "\tx1 = rnd.random() * s[0]\n",
    "\ty1 = rnd.random() * s[1]\n",
    "\tx2 = rnd.random() * s[0]\n",
    "\ty2 = rnd.random() * s[1]\n",
    "\talpha = rnd.random()\n",
    "\tcolor  = (int(rnd.random() * 256), int(rnd.random() * 256), int(rnd.random() * 256), int(alpha * 256)) \n",
    "\tdraw.line(((x1,y1),(x2,y2)), fill=color, width=1)\n",
    "\n",
    "plt.imshow(np.asarray(im), origin='lower')\n",
    "plt.show()\n"
   ]
  }
 ],
 "metadata": {
  "interpreter": {
   "hash": "857970f990130bbcaee778cf1846f7875676d945310dca1379fe4b5ef3d258a5"
  },
  "kernelspec": {
   "display_name": "Python 3.10.4 ('myenv')",
   "language": "python",
   "name": "python3"
  },
  "language_info": {
   "codemirror_mode": {
    "name": "ipython",
    "version": 3
   },
   "file_extension": ".py",
   "mimetype": "text/x-python",
   "name": "python",
   "nbconvert_exporter": "python",
   "pygments_lexer": "ipython3",
   "version": "3.10.4"
  },
  "orig_nbformat": 4
 },
 "nbformat": 4,
 "nbformat_minor": 2
}
